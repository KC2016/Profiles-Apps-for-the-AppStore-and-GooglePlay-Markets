{
 "cells": [
  {
   "cell_type": "markdown",
   "metadata": {},
   "source": [
    "# What type of apps are likely to attract more users\n",
    "\n",
    "### Which has the most profitable apps: Android or IOS?\n",
    "\n",
    "### What are the most popular genres?"
   ]
  },
  {
   "cell_type": "markdown",
   "metadata": {},
   "source": [
    "Requirements of the project:\n",
    "- Working as a Data Analyst for a company that builds Android and IOS mobile apps.\n",
    "- Objective: to define what type of apps are likely to attract more users.\n",
    "- Analysed data: from Statist (German Statistics office). \n",
    "[August2018](https://www.kaggle.com/datasets/lava18/google-play-store-apps)\n",
    "[July2018](https://www.kaggle.com/datasets/ramamet4/app-store-apple-data-set-10k-apps)"
   ]
  },
  {
   "cell_type": "markdown",
   "metadata": {},
   "source": [
    "## The datasets\n",
    "\n",
    "### Mobile App Statistics (Apple iOS app store)\n",
    "This data set contains more than 7000 Apple iOS mobile application details. The data was extracted from the iTunes Search API at the Apple Inc website. R and linux web scraping tools were used for this study. The variables are poorly described in the data source.\n",
    "\n",
    "Data collection date (from API);\n",
    "July 2017\n",
    "\n",
    "[Aplestore](https://www.kaggle.com/datasets/ramamet4/app-store-apple-data-set-10k-apps)\n",
    "\n",
    "### Google Play Store Apps\n",
    "This information is scraped from the Google Play Store. The date of scraping was not described by the author, and this is a limitation of this dataset. This dataset has most of the qualitative variables .\n",
    "\n",
    "[Googleplaystore](https://www.kaggle.com/datasets/lava18/google-play-store-apps)"
   ]
  },
  {
   "cell_type": "markdown",
   "metadata": {},
   "source": [
    "## Open datasets"
   ]
  },
  {
   "cell_type": "code",
   "execution_count": 156,
   "metadata": {},
   "outputs": [],
   "source": [
    "def explore_data(dataset, start, end, rows_and_columns=False):\n",
    "    dataset_slice = dataset[start:end]\n",
    "    for row in dataset_slice:\n",
    "        print(row)\n",
    "        print('\\n')\n",
    "    if rows_and_columns:\n",
    "        print('Number of rows:', len(dataset))\n",
    "        print('Number of columns:', len(dataset[0]))"
   ]
  },
  {
   "cell_type": "code",
   "execution_count": 157,
   "metadata": {},
   "outputs": [],
   "source": [
    "# open dataset AppleStore.csv and transform in a list of lists\n",
    "opened_file = open('AppleStore.csv')\n",
    "from csv import reader\n",
    "read_file = reader(opened_file)\n",
    "ios = list(read_file)\n",
    "ios_header = ios[0]\n",
    "ios_data = ios[1:]"
   ]
  },
  {
   "cell_type": "code",
   "execution_count": 158,
   "metadata": {},
   "outputs": [
    {
     "name": "stdout",
     "output_type": "stream",
     "text": [
      "['id', 'track_name', 'size_bytes', 'currency', 'price', 'rating_count_tot', 'rating_count_ver', 'user_rating', 'user_rating_ver', 'ver', 'cont_rating', 'prime_genre', 'sup_devices.num', 'ipadSc_urls.num', 'lang.num', 'vpp_lic']\n",
      "\n",
      "\n",
      "['284882215', 'Facebook', '389879808', 'USD', '0.0', '2974676', '212', '3.5', '3.5', '95.0', '4+', 'Social Networking', '37', '1', '29', '1']\n",
      "\n",
      "\n",
      "['389801252', 'Instagram', '113954816', 'USD', '0.0', '2161558', '1289', '4.5', '4.0', '10.23', '12+', 'Photo & Video', '37', '0', '29', '1']\n",
      "\n",
      "\n",
      "Number of rows: 7198\n",
      "Number of columns: 16\n",
      "None\n"
     ]
    }
   ],
   "source": [
    "print(explore_data(ios, 0, 3, True))"
   ]
  },
  {
   "cell_type": "code",
   "execution_count": 159,
   "metadata": {},
   "outputs": [
    {
     "name": "stdout",
     "output_type": "stream",
     "text": [
      "7198\n"
     ]
    }
   ],
   "source": [
    "# count rows\n",
    "r=0\n",
    "for row in ios:\n",
    "    r += 1\n",
    "print(r)    "
   ]
  },
  {
   "cell_type": "code",
   "execution_count": 160,
   "metadata": {},
   "outputs": [],
   "source": [
    "# open dataset googleplaystore.csv and transform in a list of lists\n",
    "opened_file = open('googleplaystore.csv')\n",
    "from csv import reader\n",
    "read_file = reader(opened_file)\n",
    "android = list(read_file)\n",
    "android_header = android[0]\n",
    "android_data = android[1:]"
   ]
  },
  {
   "cell_type": "code",
   "execution_count": 161,
   "metadata": {},
   "outputs": [
    {
     "name": "stdout",
     "output_type": "stream",
     "text": [
      "10842\n"
     ]
    }
   ],
   "source": [
    "# count rows\n",
    "r=0\n",
    "for row in android:\n",
    "    r += 1\n",
    "print(r) "
   ]
  },
  {
   "cell_type": "code",
   "execution_count": 162,
   "metadata": {},
   "outputs": [
    {
     "name": "stdout",
     "output_type": "stream",
     "text": [
      "['App', 'Category', 'Rating', 'Reviews', 'Size', 'Installs', 'Type', 'Price', 'Content Rating', 'Genres', 'Last Updated', 'Current Ver', 'Android Ver']\n",
      "\n",
      "\n",
      "['Photo Editor & Candy Camera & Grid & ScrapBook', 'ART_AND_DESIGN', '4.1', '159', '19M', '10,000+', 'Free', '0', 'Everyone', 'Art & Design', 'January 7, 2018', '1.0.0', '4.0.3 and up']\n",
      "\n",
      "\n",
      "['Coloring book moana', 'ART_AND_DESIGN', '3.9', '967', '14M', '500,000+', 'Free', '0', 'Everyone', 'Art & Design;Pretend Play', 'January 15, 2018', '2.0.0', '4.0.3 and up']\n",
      "\n",
      "\n",
      "Number of rows: 10842\n",
      "Number of columns: 13\n",
      "None\n"
     ]
    }
   ],
   "source": [
    "print(explore_data(android, 0, 3, True))"
   ]
  },
  {
   "cell_type": "markdown",
   "metadata": {},
   "source": [
    "## Exploring datasets and Cleaning data\n",
    "\n",
    "The datasets are cleaned to improve accuracy, check user engagement, and allow us to evaluate the kinds of apps that are likely to attract more users and, consequently, increase our revenue.\n",
    "\n",
    "1-  Detect duplicate data, and remove the duplicates: to reduce errors and risks\n",
    "\n",
    "2- Detect inaccurate data, and correct or remove it:\n",
    "- Remove non-English apps\n",
    "    > Most of the users use apps in English and keeping only with this language, we reach most users and reduce machine costs in evaluating. <br><br>\n",
    "    > To classify the apps as English or not, ASCII is used.\n",
    "    > English texts are encoded using the ASCII standard. Each ASCII character has a corresponding number between 0 and 127 associated with it, so we can build a function that checks an app name and tells us whether it contains non-ASCII characters.\n",
    "\n",
    "- Remove apps that aren't free\n",
    "    > I keep with the free apps. Most of the apps make money inside the app, having free installations. This business type makes sense for new apps like ours new apps.\n",
    "    \n",
    "3- Examining genres of apps.\n",
    "- Most reviewed genres\n",
    "    > Reviews are used to find engagement index of user with the app. Reviews are a benchmark for measuring user acceptance of an app.<br>\n",
    "    \n",
    "- Most installed genres\n",
    "    > By the number of apps installed in certain genres, we can identify demand by genre, considering different platforms.\n",
    "    "
   ]
  },
  {
   "cell_type": "markdown",
   "metadata": {},
   "source": [
    "### Explore applestore_data"
   ]
  },
  {
   "cell_type": "markdown",
   "metadata": {},
   "source": [
    "#### Check the number of columns in each row"
   ]
  },
  {
   "cell_type": "code",
   "execution_count": 163,
   "metadata": {},
   "outputs": [],
   "source": [
    "# create a function to check and delete the rows with missing data/columns in the datasets\n",
    "def check_missing_values(data):\n",
    "    is_all_valid = True\n",
    "    for row in data:\n",
    "        n_columns = len(data[0])  # n_of_headers:\n",
    "        if len(row) != n_columns:\n",
    "            print(data.index(row))\n",
    "            print('The row index ', data.index(row), ' is missing ', n_columns - len(row), ' column(s). This row is being deleted.')\n",
    "            index_to_delete = data.index(row)\n",
    "            del data[index_to_delete]\n",
    "            is_all_valid = False\n",
    "\n",
    "    if is_all_valid:\n",
    "        print('There is no missing columns in the dataset.')"
   ]
  },
  {
   "cell_type": "code",
   "execution_count": 164,
   "metadata": {},
   "outputs": [
    {
     "name": "stdout",
     "output_type": "stream",
     "text": [
      "There is no missing columns in the dataset.\n"
     ]
    }
   ],
   "source": [
    "check_missing_values(ios)"
   ]
  },
  {
   "cell_type": "code",
   "execution_count": 165,
   "metadata": {},
   "outputs": [
    {
     "name": "stdout",
     "output_type": "stream",
     "text": [
      "7198\n"
     ]
    }
   ],
   "source": [
    "# count rows\n",
    "r=0\n",
    "for row in ios:\n",
    "    r += 1\n",
    "print(r) "
   ]
  },
  {
   "cell_type": "code",
   "execution_count": 166,
   "metadata": {},
   "outputs": [
    {
     "name": "stdout",
     "output_type": "stream",
     "text": [
      "10473\n",
      "The row index  10473  is missing  1  column(s). This row is being deleted.\n"
     ]
    }
   ],
   "source": [
    "check_missing_values(android)"
   ]
  },
  {
   "cell_type": "code",
   "execution_count": 167,
   "metadata": {},
   "outputs": [
    {
     "name": "stdout",
     "output_type": "stream",
     "text": [
      "10841\n"
     ]
    }
   ],
   "source": [
    "# count rows\n",
    "r=0\n",
    "for row in android:\n",
    "    r += 1\n",
    "print(r) "
   ]
  },
  {
   "cell_type": "markdown",
   "metadata": {},
   "source": [
    "### Check duplicate entries"
   ]
  },
  {
   "cell_type": "code",
   "execution_count": 168,
   "metadata": {},
   "outputs": [],
   "source": [
    "# ios\n",
    "for app in ios:\n",
    "    name = app[0]\n",
    "    if name == 'Instagram':\n",
    "        print(app)"
   ]
  },
  {
   "cell_type": "code",
   "execution_count": 169,
   "metadata": {},
   "outputs": [
    {
     "name": "stdout",
     "output_type": "stream",
     "text": [
      "['App', 'Category', 'Rating', 'Reviews', 'Size', 'Installs', 'Type', 'Price', 'Content Rating', 'Genres', 'Last Updated', 'Current Ver', 'Android Ver']\n"
     ]
    }
   ],
   "source": [
    "print(android[0])"
   ]
  },
  {
   "cell_type": "code",
   "execution_count": 170,
   "metadata": {},
   "outputs": [
    {
     "name": "stdout",
     "output_type": "stream",
     "text": [
      "['Instagram', 'SOCIAL', '4.5', '66577313', 'Varies with device', '1,000,000,000+', 'Free', '0', 'Teen', 'Social', 'July 31, 2018', 'Varies with device', 'Varies with device']\n",
      "['Instagram', 'SOCIAL', '4.5', '66577446', 'Varies with device', '1,000,000,000+', 'Free', '0', 'Teen', 'Social', 'July 31, 2018', 'Varies with device', 'Varies with device']\n",
      "['Instagram', 'SOCIAL', '4.5', '66577313', 'Varies with device', '1,000,000,000+', 'Free', '0', 'Teen', 'Social', 'July 31, 2018', 'Varies with device', 'Varies with device']\n",
      "['Instagram', 'SOCIAL', '4.5', '66509917', 'Varies with device', '1,000,000,000+', 'Free', '0', 'Teen', 'Social', 'July 31, 2018', 'Varies with device', 'Varies with device']\n"
     ]
    }
   ],
   "source": [
    "# googleplaystore_data\n",
    "for app in android:\n",
    "    name = app[0]\n",
    "    if name == 'Instagram':\n",
    "        print(app)"
   ]
  },
  {
   "cell_type": "code",
   "execution_count": 171,
   "metadata": {},
   "outputs": [
    {
     "name": "stdout",
     "output_type": "stream",
     "text": [
      "Number of duplicate IOS apps:  0\n",
      "There is no duplicate IOS apps.\n"
     ]
    }
   ],
   "source": [
    "# Finding the number of duplicate app:  # IOS\n",
    "unique_apps = []\n",
    "duplicate_apps = []\n",
    "for app in ios:\n",
    "    app_name =  app[0]\n",
    "    if app_name in unique_apps:\n",
    "        duplicate_apps.append(app_name)\n",
    "    else:     \n",
    "        unique_apps.append(app_name)\n",
    "        \n",
    "print('Number of duplicate IOS apps: ', len(duplicate_apps))\n",
    "if duplicate_apps:\n",
    "    print('Examples of duplicate IOS apps: ', duplicate_apps[:3])\n",
    "else:\n",
    "    print('There is no duplicate IOS apps.')"
   ]
  },
  {
   "cell_type": "code",
   "execution_count": 172,
   "metadata": {},
   "outputs": [
    {
     "name": "stdout",
     "output_type": "stream",
     "text": [
      "Number of duplicate Android apps:  1181\n",
      "Examples of duplicate Android apps:  ['Quick PDF Scanner + OCR FREE', 'Box', 'Google My Business', 'ZOOM Cloud Meetings', 'join.me - Simple Meetings', 'Box', 'Zenefits', 'Google Ads', 'Google My Business', 'Slack', 'FreshBooks Classic', 'Insightly CRM', 'QuickBooks Accounting: Invoicing & Expenses', 'HipChat - Chat Built for Teams', 'Xero Accounting Software']\n"
     ]
    }
   ],
   "source": [
    "# Finding the number of repeated app:  # Android\n",
    "unique_apps = []\n",
    "duplicate_apps = []\n",
    "for app in android:\n",
    "    app_name =  app[0]\n",
    "    if app_name in unique_apps:\n",
    "        duplicate_apps.append(app_name)\n",
    "    else:     \n",
    "        unique_apps.append(app_name)\n",
    "        \n",
    "print('Number of duplicate Android apps: ', len(duplicate_apps))\n",
    "if duplicate_apps:\n",
    "    print('Examples of duplicate Android apps: ', duplicate_apps[:15])\n",
    "else:\n",
    "    print('There is no duplicate Android apps.')"
   ]
  },
  {
   "cell_type": "markdown",
   "metadata": {},
   "source": [
    "The **IOS** dataset, from googleplaystore, has **1181** multiple entries to the app name. **'Quick PDF Scanner + OCR FREE'**, **'Box'**, **'Google My Business'** , **'Slack'**, **'ZOOM'** are some examples of repeated apps."
   ]
  },
  {
   "cell_type": "markdown",
   "metadata": {},
   "source": [
    "### Remove duplicates in apps, keeping the ones with more reviews."
   ]
  },
  {
   "cell_type": "code",
   "execution_count": 173,
   "metadata": {},
   "outputs": [
    {
     "name": "stdout",
     "output_type": "stream",
     "text": [
      "['App', 'Category', 'Rating', 'Reviews', 'Size', 'Installs', 'Type', 'Price', 'Content Rating', 'Genres', 'Last Updated', 'Current Ver', 'Android Ver']\n",
      "\n",
      "\n",
      "['Photo Editor & Candy Camera & Grid & ScrapBook', 'ART_AND_DESIGN', '4.1', '159', '19M', '10,000+', 'Free', '0', 'Everyone', 'Art & Design', 'January 7, 2018', '1.0.0', '4.0.3 and up']\n",
      "\n",
      "\n",
      "['Coloring book moana', 'ART_AND_DESIGN', '3.9', '967', '14M', '500,000+', 'Free', '0', 'Everyone', 'Art & Design;Pretend Play', 'January 15, 2018', '2.0.0', '4.0.3 and up']\n",
      "\n",
      "\n",
      "Number of rows: 10841\n",
      "Number of columns: 13\n",
      "None\n"
     ]
    }
   ],
   "source": [
    "print(explore_data(android, 0, 3, True))"
   ]
  },
  {
   "cell_type": "code",
   "execution_count": 174,
   "metadata": {},
   "outputs": [],
   "source": [
    "# Android\n",
    "\n",
    "reviews_max = {}\n",
    "\n",
    "for app in android[1:]:   # excluding the header\n",
    "    name = app[0]   \n",
    "    n_reviews = len(app[3])  \n",
    "    \n",
    "    if name in reviews_max and reviews_max[name] < n_reviews:\n",
    "        reviews_max[name] = n_reviews\n",
    "        \n",
    "    elif name not in reviews_max:\n",
    "        reviews_max[name] = n_reviews\n",
    "        "
   ]
  },
  {
   "cell_type": "code",
   "execution_count": 175,
   "metadata": {},
   "outputs": [
    {
     "name": "stdout",
     "output_type": "stream",
     "text": [
      "Expected length: 9659\n",
      "Actual length: 9659\n"
     ]
    }
   ],
   "source": [
    "print('Expected length:', len(android[1:]) - 1181)\n",
    "print('Actual length:', len(reviews_max))   # considering unique values"
   ]
  },
  {
   "cell_type": "code",
   "execution_count": 176,
   "metadata": {},
   "outputs": [],
   "source": [
    "android_clean = []\n",
    "already_added = []\n",
    "\n",
    "for app in android[1:]:\n",
    "    name = app[0]\n",
    "    n_reviews = len(app[3])\n",
    "    \n",
    "    if (reviews_max[name] == n_reviews) and (name not in already_added):\n",
    "        android_clean.append(app)   # rows  \n",
    "        already_added.append(name)   # values in apps"
   ]
  },
  {
   "cell_type": "code",
   "execution_count": 177,
   "metadata": {},
   "outputs": [
    {
     "name": "stdout",
     "output_type": "stream",
     "text": [
      "['Photo Editor & Candy Camera & Grid & ScrapBook', 'ART_AND_DESIGN', '4.1', '159', '19M', '10,000+', 'Free', '0', 'Everyone', 'Art & Design', 'January 7, 2018', '1.0.0', '4.0.3 and up']\n",
      "\n",
      "\n",
      "['Coloring book moana', 'ART_AND_DESIGN', '3.9', '967', '14M', '500,000+', 'Free', '0', 'Everyone', 'Art & Design;Pretend Play', 'January 15, 2018', '2.0.0', '4.0.3 and up']\n",
      "\n",
      "\n",
      "['U Launcher Lite – FREE Live Cool Themes, Hide Apps', 'ART_AND_DESIGN', '4.7', '87510', '8.7M', '5,000,000+', 'Free', '0', 'Everyone', 'Art & Design', 'August 1, 2018', '1.2.4', '4.0.3 and up']\n",
      "\n",
      "\n",
      "Number of rows: 9659\n",
      "Number of columns: 13\n",
      "None\n"
     ]
    }
   ],
   "source": [
    "print(explore_data(android_clean, 0, 3, True))"
   ]
  },
  {
   "cell_type": "markdown",
   "metadata": {},
   "source": [
    "### Remove Non-English Apps"
   ]
  },
  {
   "cell_type": "code",
   "execution_count": 178,
   "metadata": {},
   "outputs": [
    {
     "name": "stdout",
     "output_type": "stream",
     "text": [
      "True\n",
      "False\n",
      "False\n",
      "False\n",
      "8482\n",
      "128540\n"
     ]
    }
   ],
   "source": [
    "def is_english(string):\n",
    "    for character in string:\n",
    "        if ord(character) > 127:\n",
    "            return False\n",
    "    return True\n",
    "\n",
    "print(is_english('Instagram'))\n",
    "print(is_english('爱奇艺PPS -《欢乐颂2》电视剧热播'))\n",
    "print(is_english('Docs To Go™ Free Office Suite'))\n",
    "print(is_english('Instachat 😜'))\n",
    "print(ord('™'))\n",
    "print(ord('😜'))"
   ]
  },
  {
   "cell_type": "code",
   "execution_count": 179,
   "metadata": {},
   "outputs": [
    {
     "name": "stdout",
     "output_type": "stream",
     "text": [
      "True\n"
     ]
    }
   ],
   "source": [
    "def is_english_0(string):\n",
    "    non_ascii = 0\n",
    "    for character in string:\n",
    "        if ord(character) > 127:\n",
    "            non_ascii += 1\n",
    "            \n",
    "        if non_ascii > 3:\n",
    "            return False\n",
    "        else:\n",
    "            return True\n",
    "# print(is_english('Instagram'))\n",
    "# print(is_english('爱奇艺PPS -《欢乐颂2》电视剧热播'))\n",
    "# print(is_english('Docs To Go™ Free Office Suite'))\n",
    "# print(is_english(is_english(txt)))\n",
    "print(is_english_0('欢乐颂2'))"
   ]
  },
  {
   "cell_type": "markdown",
   "metadata": {},
   "source": [
    "Trying different because the code above didn't work well.\n",
    "\n",
    "### Using Python String isascii() Method"
   ]
  },
  {
   "cell_type": "code",
   "execution_count": 180,
   "metadata": {},
   "outputs": [
    {
     "data": {
      "text/plain": [
       "False"
      ]
     },
     "execution_count": 180,
     "metadata": {},
     "output_type": "execute_result"
    }
   ],
   "source": [
    "def is_english(txt):\n",
    "    n_non_englisg_letter = 0\n",
    "\n",
    "    for letter in txt:\n",
    "        if letter.isascii() == False:\n",
    "            n_non_englisg_letter += 1\n",
    "\n",
    "    if n_non_englisg_letter > 3:\n",
    "        return False\n",
    "\n",
    "    else:    \n",
    "        return True\n",
    "\n",
    "# txt = \"Company123欢乐欢乐欢乐欢乐\"\n",
    "txt = '最長１週間の献立が簡単に作れるme:new（ミーニュー）'\n",
    "# txt = 'Instachat 😜'\n",
    "# txt = 'Instagram'\n",
    "# txt = '爱奇艺PPS -《欢乐颂2》电视剧热播'\n",
    "# txt = 'Docs To Go™ Free Office Suite'\n",
    "is_english(txt)"
   ]
  },
  {
   "cell_type": "markdown",
   "metadata": {},
   "source": [
    "This second option worked better than using the 1st method.\n",
    "I considered words with more than 3 characters, not ascii as non-English."
   ]
  },
  {
   "cell_type": "code",
   "execution_count": 181,
   "metadata": {},
   "outputs": [
    {
     "name": "stdout",
     "output_type": "stream",
     "text": [
      "['284882215', 'Facebook', '389879808', 'USD', '0.0', '2974676', '212', '3.5', '3.5', '95.0', '4+', 'Social Networking', '37', '1', '29', '1']\n",
      "\n",
      "\n",
      "['389801252', 'Instagram', '113954816', 'USD', '0.0', '2161558', '1289', '4.5', '4.0', '10.23', '12+', 'Photo & Video', '37', '0', '29', '1']\n",
      "\n",
      "\n",
      "['529479190', 'Clash of Clans', '116476928', 'USD', '0.0', '2130805', '579', '4.5', '4.5', '9.24.12', '9+', 'Games', '38', '5', '18', '1']\n",
      "\n",
      "\n",
      "Number of rows: 7197\n",
      "Number of columns: 16\n",
      "\n",
      "\n",
      "['Photo Editor & Candy Camera & Grid & ScrapBook', 'ART_AND_DESIGN', '4.1', '159', '19M', '10,000+', 'Free', '0', 'Everyone', 'Art & Design', 'January 7, 2018', '1.0.0', '4.0.3 and up']\n",
      "\n",
      "\n",
      "['Coloring book moana', 'ART_AND_DESIGN', '3.9', '967', '14M', '500,000+', 'Free', '0', 'Everyone', 'Art & Design;Pretend Play', 'January 15, 2018', '2.0.0', '4.0.3 and up']\n",
      "\n",
      "\n",
      "['U Launcher Lite – FREE Live Cool Themes, Hide Apps', 'ART_AND_DESIGN', '4.7', '87510', '8.7M', '5,000,000+', 'Free', '0', 'Everyone', 'Art & Design', 'August 1, 2018', '1.2.4', '4.0.3 and up']\n",
      "\n",
      "\n",
      "Number of rows: 9614\n",
      "Number of columns: 13\n"
     ]
    }
   ],
   "source": [
    "ios_english = []\n",
    "android_english = []\n",
    "\n",
    "for app in ios[1:]:\n",
    "    name = app[0]\n",
    "    if is_english(name) == True:\n",
    "        ios_english.append(app)\n",
    "        \n",
    "explore_data(ios_english, 0, 3, True)\n",
    "print('\\n')\n",
    "\n",
    "for app in android_clean:\n",
    "    name = app[0]\n",
    "    if is_english(name) == True:\n",
    "        android_english.append(app)\n",
    "        \n",
    "explore_data(android_english, 0, 3, True)"
   ]
  },
  {
   "cell_type": "markdown",
   "metadata": {},
   "source": [
    "We're left with 7197 IOS apps and 9614 Android apps."
   ]
  },
  {
   "cell_type": "markdown",
   "metadata": {},
   "source": [
    "### Keeping only with free apps"
   ]
  },
  {
   "cell_type": "code",
   "execution_count": 182,
   "metadata": {
    "scrolled": true
   },
   "outputs": [
    {
     "name": "stdout",
     "output_type": "stream",
     "text": [
      "['284882215', 'Facebook', '389879808', 'USD', '0.0', '2974676', '212', '3.5', '3.5', '95.0', '4+', 'Social Networking', '37', '1', '29', '1']\n",
      "\n",
      "\n",
      "['284882215', 'Facebook', '389879808', 'USD', '0.0', '2974676', '212', '3.5', '3.5', '95.0', '4+', 'Social Networking', '37', '1', '29', '1']\n",
      "\n",
      "\n",
      "['389801252', 'Instagram', '113954816', 'USD', '0.0', '2161558', '1289', '4.5', '4.0', '10.23', '12+', 'Photo & Video', '37', '0', '29', '1']\n",
      "\n",
      "\n",
      "Number of rows: 4057\n",
      "Number of columns: 16\n",
      "\n",
      "\n",
      "['Photo Editor & Candy Camera & Grid & ScrapBook', 'ART_AND_DESIGN', '4.1', '159', '19M', '10,000+', 'Free', '0', 'Everyone', 'Art & Design', 'January 7, 2018', '1.0.0', '4.0.3 and up']\n",
      "\n",
      "\n",
      "['Photo Editor & Candy Camera & Grid & ScrapBook', 'ART_AND_DESIGN', '4.1', '159', '19M', '10,000+', 'Free', '0', 'Everyone', 'Art & Design', 'January 7, 2018', '1.0.0', '4.0.3 and up']\n",
      "\n",
      "\n",
      "['Coloring book moana', 'ART_AND_DESIGN', '3.9', '967', '14M', '500,000+', 'Free', '0', 'Everyone', 'Art & Design;Pretend Play', 'January 15, 2018', '2.0.0', '4.0.3 and up']\n",
      "\n",
      "\n",
      "Number of rows: 8865\n",
      "Number of columns: 13\n"
     ]
    }
   ],
   "source": [
    "ios_final = [ios_english[0]]\n",
    "android_final = [android_english[0]]\n",
    "\n",
    "for app in ios_english:\n",
    "    type = app[4]\n",
    "    if type == '0.0':\n",
    "        ios_final.append(app)\n",
    "    \n",
    "explore_data(ios_final, 0, 3, True)\n",
    "print('\\n')\n",
    "\n",
    "for app in android_english:\n",
    "    type = app[7]\n",
    "    if type == '0':\n",
    "        android_final.append(app)\n",
    "    \n",
    "explore_data(android_final, 0, 3, True)"
   ]
  },
  {
   "cell_type": "markdown",
   "metadata": {},
   "source": [
    "We found 4057 free IOS apps and 8865 free android apps, with titles in English. "
   ]
  },
  {
   "cell_type": "markdown",
   "metadata": {},
   "source": [
    "### Transforming the numerical variables into integer and float\n",
    "In order to check how spread the observations are."
   ]
  },
  {
   "cell_type": "code",
   "execution_count": 189,
   "metadata": {},
   "outputs": [
    {
     "data": {
      "text/html": [
       "<div>\n",
       "<style scoped>\n",
       "    .dataframe tbody tr th:only-of-type {\n",
       "        vertical-align: middle;\n",
       "    }\n",
       "\n",
       "    .dataframe tbody tr th {\n",
       "        vertical-align: top;\n",
       "    }\n",
       "\n",
       "    .dataframe thead th {\n",
       "        text-align: right;\n",
       "    }\n",
       "</style>\n",
       "<table border=\"1\" class=\"dataframe\">\n",
       "  <thead>\n",
       "    <tr style=\"text-align: right;\">\n",
       "      <th></th>\n",
       "      <th>size_bytes</th>\n",
       "      <th>price</th>\n",
       "      <th>rating_count_tot</th>\n",
       "      <th>rating_count_ver</th>\n",
       "      <th>sup_devices.num</th>\n",
       "      <th>ipadSc_urls.num</th>\n",
       "      <th>lang.num</th>\n",
       "      <th>vpp_lic</th>\n",
       "    </tr>\n",
       "  </thead>\n",
       "  <tbody>\n",
       "    <tr>\n",
       "      <th>count</th>\n",
       "      <td>4.056000e+03</td>\n",
       "      <td>4056.0</td>\n",
       "      <td>4.056000e+03</td>\n",
       "      <td>4056.000000</td>\n",
       "      <td>4056.000000</td>\n",
       "      <td>4056.000000</td>\n",
       "      <td>4056.000000</td>\n",
       "      <td>4056.000000</td>\n",
       "    </tr>\n",
       "    <tr>\n",
       "      <th>mean</th>\n",
       "      <td>1.479357e+08</td>\n",
       "      <td>0.0</td>\n",
       "      <td>1.974980e+04</td>\n",
       "      <td>569.400888</td>\n",
       "      <td>37.428254</td>\n",
       "      <td>3.585552</td>\n",
       "      <td>5.732495</td>\n",
       "      <td>0.994822</td>\n",
       "    </tr>\n",
       "    <tr>\n",
       "      <th>std</th>\n",
       "      <td>2.089014e+08</td>\n",
       "      <td>0.0</td>\n",
       "      <td>9.774428e+04</td>\n",
       "      <td>4134.301293</td>\n",
       "      <td>2.954281</td>\n",
       "      <td>2.041633</td>\n",
       "      <td>8.505148</td>\n",
       "      <td>0.071777</td>\n",
       "    </tr>\n",
       "    <tr>\n",
       "      <th>min</th>\n",
       "      <td>7.671260e+05</td>\n",
       "      <td>0.0</td>\n",
       "      <td>0.000000e+00</td>\n",
       "      <td>0.000000</td>\n",
       "      <td>9.000000</td>\n",
       "      <td>0.000000</td>\n",
       "      <td>0.000000</td>\n",
       "      <td>0.000000</td>\n",
       "    </tr>\n",
       "    <tr>\n",
       "      <th>25%</th>\n",
       "      <td>5.404134e+07</td>\n",
       "      <td>0.0</td>\n",
       "      <td>2.200000e+01</td>\n",
       "      <td>1.000000</td>\n",
       "      <td>37.000000</td>\n",
       "      <td>2.000000</td>\n",
       "      <td>1.000000</td>\n",
       "      <td>1.000000</td>\n",
       "    </tr>\n",
       "    <tr>\n",
       "      <th>50%</th>\n",
       "      <td>9.960038e+07</td>\n",
       "      <td>0.0</td>\n",
       "      <td>4.660000e+02</td>\n",
       "      <td>22.000000</td>\n",
       "      <td>37.000000</td>\n",
       "      <td>5.000000</td>\n",
       "      <td>1.000000</td>\n",
       "      <td>1.000000</td>\n",
       "    </tr>\n",
       "    <tr>\n",
       "      <th>75%</th>\n",
       "      <td>1.611986e+08</td>\n",
       "      <td>0.0</td>\n",
       "      <td>5.450750e+03</td>\n",
       "      <td>162.250000</td>\n",
       "      <td>38.000000</td>\n",
       "      <td>5.000000</td>\n",
       "      <td>9.000000</td>\n",
       "      <td>1.000000</td>\n",
       "    </tr>\n",
       "    <tr>\n",
       "      <th>max</th>\n",
       "      <td>3.148421e+09</td>\n",
       "      <td>0.0</td>\n",
       "      <td>2.974676e+06</td>\n",
       "      <td>117470.000000</td>\n",
       "      <td>47.000000</td>\n",
       "      <td>5.000000</td>\n",
       "      <td>75.000000</td>\n",
       "      <td>1.000000</td>\n",
       "    </tr>\n",
       "  </tbody>\n",
       "</table>\n",
       "</div>"
      ],
      "text/plain": [
       "         size_bytes   price  rating_count_tot  rating_count_ver  \\\n",
       "count  4.056000e+03  4056.0      4.056000e+03       4056.000000   \n",
       "mean   1.479357e+08     0.0      1.974980e+04        569.400888   \n",
       "std    2.089014e+08     0.0      9.774428e+04       4134.301293   \n",
       "min    7.671260e+05     0.0      0.000000e+00          0.000000   \n",
       "25%    5.404134e+07     0.0      2.200000e+01          1.000000   \n",
       "50%    9.960038e+07     0.0      4.660000e+02         22.000000   \n",
       "75%    1.611986e+08     0.0      5.450750e+03        162.250000   \n",
       "max    3.148421e+09     0.0      2.974676e+06     117470.000000   \n",
       "\n",
       "       sup_devices.num  ipadSc_urls.num     lang.num      vpp_lic  \n",
       "count      4056.000000      4056.000000  4056.000000  4056.000000  \n",
       "mean         37.428254         3.585552     5.732495     0.994822  \n",
       "std           2.954281         2.041633     8.505148     0.071777  \n",
       "min           9.000000         0.000000     0.000000     0.000000  \n",
       "25%          37.000000         2.000000     1.000000     1.000000  \n",
       "50%          37.000000         5.000000     1.000000     1.000000  \n",
       "75%          38.000000         5.000000     9.000000     1.000000  \n",
       "max          47.000000         5.000000    75.000000     1.000000  "
      ]
     },
     "execution_count": 189,
     "metadata": {},
     "output_type": "execute_result"
    }
   ],
   "source": [
    "# transform objects (strings) in float and integer  # IOS apps\n",
    "\n",
    "# ios_cols_category = ios_free[['track_name','currency', 'user_rating', 'ver','cont_rating', 'prime_genre']]\n",
    "# ios_cols_numeric = ios_free['size_bytes', 'price', 'rating_count_tot', 'rating_count_ver', 'sup_devices.num', 'ipadSc_urls.num', 'lang.num', 'vpp_lic']\n",
    "import pandas as pd\n",
    "cols = ios[0]\n",
    "df_ios = pd.DataFrame(ios_final[1:], columns = cols)\n",
    "df_ios\n",
    "\n",
    "to_transform_to_int = ['size_bytes','rating_count_tot', 'rating_count_ver', 'sup_devices.num', 'ipadSc_urls.num', 'lang.num', 'vpp_lic']\n",
    "for var in to_transform_to_int:\n",
    "    df_ios[var] = df_ios[var].astype('int')\n",
    "\n",
    "df_ios['price'] = df_ios['price'].astype('float')\n",
    "\n",
    "# df_ios.info()\n",
    "df_ios.describe()\n"
   ]
  },
  {
   "cell_type": "markdown",
   "metadata": {},
   "source": [
    "Among the numeric variables for IOS apps, `size_bytes`, `sup_devices.num`, `ipadSc_urls.num`,\tand\t`vpp_lic` are the most reliable for having lower std. However, we don't have description to  `sup_devices.num`, `ipadSc_urls.num`, and\t`vpp_lic`. So I will not analyze these in detail."
   ]
  },
  {
   "cell_type": "code",
   "execution_count": 191,
   "metadata": {},
   "outputs": [
    {
     "data": {
      "text/html": [
       "<div>\n",
       "<style scoped>\n",
       "    .dataframe tbody tr th:only-of-type {\n",
       "        vertical-align: middle;\n",
       "    }\n",
       "\n",
       "    .dataframe tbody tr th {\n",
       "        vertical-align: top;\n",
       "    }\n",
       "\n",
       "    .dataframe thead th {\n",
       "        text-align: right;\n",
       "    }\n",
       "</style>\n",
       "<table border=\"1\" class=\"dataframe\">\n",
       "  <thead>\n",
       "    <tr style=\"text-align: right;\">\n",
       "      <th></th>\n",
       "      <th>Reviews</th>\n",
       "      <th>Price</th>\n",
       "    </tr>\n",
       "  </thead>\n",
       "  <tbody>\n",
       "    <tr>\n",
       "      <th>count</th>\n",
       "      <td>8.864000e+03</td>\n",
       "      <td>8864.0</td>\n",
       "    </tr>\n",
       "    <tr>\n",
       "      <th>mean</th>\n",
       "      <td>2.354337e+05</td>\n",
       "      <td>0.0</td>\n",
       "    </tr>\n",
       "    <tr>\n",
       "      <th>std</th>\n",
       "      <td>1.910437e+06</td>\n",
       "      <td>0.0</td>\n",
       "    </tr>\n",
       "    <tr>\n",
       "      <th>min</th>\n",
       "      <td>0.000000e+00</td>\n",
       "      <td>0.0</td>\n",
       "    </tr>\n",
       "    <tr>\n",
       "      <th>25%</th>\n",
       "      <td>3.000000e+01</td>\n",
       "      <td>0.0</td>\n",
       "    </tr>\n",
       "    <tr>\n",
       "      <th>50%</th>\n",
       "      <td>1.403000e+03</td>\n",
       "      <td>0.0</td>\n",
       "    </tr>\n",
       "    <tr>\n",
       "      <th>75%</th>\n",
       "      <td>3.552850e+04</td>\n",
       "      <td>0.0</td>\n",
       "    </tr>\n",
       "    <tr>\n",
       "      <th>max</th>\n",
       "      <td>7.815831e+07</td>\n",
       "      <td>0.0</td>\n",
       "    </tr>\n",
       "  </tbody>\n",
       "</table>\n",
       "</div>"
      ],
      "text/plain": [
       "            Reviews   Price\n",
       "count  8.864000e+03  8864.0\n",
       "mean   2.354337e+05     0.0\n",
       "std    1.910437e+06     0.0\n",
       "min    0.000000e+00     0.0\n",
       "25%    3.000000e+01     0.0\n",
       "50%    1.403000e+03     0.0\n",
       "75%    3.552850e+04     0.0\n",
       "max    7.815831e+07     0.0"
      ]
     },
     "execution_count": 191,
     "metadata": {},
     "output_type": "execute_result"
    }
   ],
   "source": [
    "# transform objects (strings) in float and integer  # Android apps\n",
    "\n",
    "import pandas as pd\n",
    "cols = android[0]\n",
    "df_android = pd.DataFrame(android_free[1:], columns = cols)\n",
    "df_android\n",
    "\n",
    "to_transform_to_int_android = ['Reviews', 'Price']\n",
    "for var in to_transform_to_int_android:\n",
    "    df_android[var] = df_android[var].astype('int')\n",
    "\n",
    "# df_ios.info()\n",
    "df_android.describe()"
   ]
  },
  {
   "cell_type": "markdown",
   "metadata": {},
   "source": [
    "Reviews have an OK to bad score for standard deviation which makes it a reliable variable for deep analysis."
   ]
  },
  {
   "cell_type": "markdown",
   "metadata": {},
   "source": [
    "### Defining percentages to evaluate genres\n",
    "- One function to generate frequency tables that show percentages\n",
    "- Another function that we can use to display the percentages in a descending order"
   ]
  },
  {
   "cell_type": "code",
   "execution_count": null,
   "metadata": {},
   "outputs": [],
   "source": [
    "def freq_table(dataset, index):\n",
    "    table = {}   # create an empty dictionary\n",
    "    total = 0    # counter\n",
    "    \n",
    "    for row in dataset:\n",
    "        total += 1\n",
    "        value = row[index]\n",
    "        if value in table:\n",
    "            table[value] += 1  # since it will happen many times, this came first. \n",
    "                    # Thus, we avoid to make the machine iterate by code for nothing.\n",
    "        else:\n",
    "            table[value] = 1   # this will hapend only in the first iteration.\n",
    "            \n",
    "    table_percentages = {}\n",
    "    \n",
    "    for key in table:\n",
    "        percentage = (table[key]/total) * 100\n",
    "        table_percentages[key] = percentage\n",
    "        \n",
    "    return table_percentages\n",
    "\n",
    "def display_table(dataset, index):\n",
    "    table = freq_table(dataset, index)\n",
    "    table_display = []    # create an empty list\n",
    "    for key in table:\n",
    "        key_val_as_tuple = (table[key], key)\n",
    "        table_display.append(key_val_as_tuple)\n",
    "        \n",
    "    table_sorted = sorted(table_display, reverse=True)\n",
    "    for entry in table_sorted:\n",
    "        print(entry[1], ':', entry[0])"
   ]
  },
  {
   "cell_type": "markdown",
   "metadata": {},
   "source": [
    "### Examining the apps genre"
   ]
  },
  {
   "cell_type": "code",
   "execution_count": null,
   "metadata": {},
   "outputs": [],
   "source": [
    "# for ios app, removing the header\n",
    "display_table(ios_free[1:], -5)   # prime_genre"
   ]
  },
  {
   "cell_type": "markdown",
   "metadata": {},
   "source": [
    "The percentages show that the most popular IOS apps are focused on entertainment. [Publications](https://www.macrumors.com/2021/12/02/apple-most-downloaded-apps-2021/) ratify the information."
   ]
  },
  {
   "cell_type": "code",
   "execution_count": null,
   "metadata": {},
   "outputs": [],
   "source": [
    "# for android app, removing the header\n",
    "display_table(android_free[1:],1)   # category"
   ]
  },
  {
   "cell_type": "code",
   "execution_count": null,
   "metadata": {},
   "outputs": [],
   "source": [
    "# for android app, removing the header\n",
    "display_table(android_free[1:],-4)   # genres"
   ]
  },
  {
   "cell_type": "markdown",
   "metadata": {},
   "source": [
    "According to the [description of the variables of the dataset](https://www.kaggle.com/datasets/lava18/google-play-store-apps) and observation from the results for frequencies, `Genres` are more granulated than `Categories`."
   ]
  },
  {
   "cell_type": "markdown",
   "metadata": {},
   "source": [
    "At first glance, I can say that `Games` apps is the most popular genre  in IOS with 55,4%, presenting only 10,59% in Android. `Education` has 3.25% of the apps in IOS and 1,51% in Android. As well as, `Entertainment` is more significant in IOS (8,23%) than in Android (1,47%). \n",
    "\n",
    "Android stands out for `Business`, rated in Android with 4,5% and in IOS with 0,49%, for `Productivity` with 3,95% in Android while IOS presents 1,52%, for `Medical` apps (3,54%)  what does not happen with IOS (0,19%), and for `Travel` 2,46% while IOS presents 1,38%. \n",
    "\n",
    "`Food and drink` was not a significant genre in apps from IOS (1,06%) or Android(1,25%). \n",
    "\n",
    "Apps of Games and entertainment are expected to have more frequency and engagement than functional apps such as food, finance and travel.\n",
    "\n",
    "Note: Since the categories are different between IOS and Android apps, a manual normalization or a data visualization could give better insights. "
   ]
  },
  {
   "cell_type": "markdown",
   "metadata": {},
   "source": [
    "### Examining reviews in Games"
   ]
  },
  {
   "cell_type": "code",
   "execution_count": null,
   "metadata": {},
   "outputs": [],
   "source": [
    "for app in android_free:\n",
    "    if app[1] == 'GAME':\n",
    "        print(app[0], ':', app[3], ':', app[2])  # print name and number of ratings"
   ]
  },
  {
   "cell_type": "markdown",
   "metadata": {},
   "source": [
    "As examples of Android games, I cite:\n",
    "`Roblox` had 4.447.388 reviews and was rated 4.5,\n",
    "`Candy Crush Saga` had 22.426.677 reviews and was rated 4.4,\n",
    "`Clash of Clans` had  44.891.723 reviews and was rated 4.6, and\n",
    "`Temple Run 2` had 8.118.609 reviews and was rated 4.3."
   ]
  },
  {
   "cell_type": "code",
   "execution_count": null,
   "metadata": {},
   "outputs": [],
   "source": [
    "reviews_android_games = []\n",
    "for app in android_free:\n",
    "    if app[1] == 'GAME':\n",
    "        reviews_android_games.append(int(app[3]))\n",
    "sorted_reviews_android_games = sorted(reviews_android_games)\n",
    "# print(sorted_reviews_android_games[-1:])\n",
    "for app in android_free:\n",
    "    if app[3] == '44893888':\n",
    "        print('The most reviewed Android game was ', app[0],' with 44,893,888 reviews.')\n",
    "    "
   ]
  },
  {
   "cell_type": "code",
   "execution_count": null,
   "metadata": {},
   "outputs": [],
   "source": [
    "for app in ios_free:\n",
    "    if app[-5] == 'Games':\n",
    "        print(app[1], ':', app[5], ':', app[7])  # print name, number of ratings and user rating"
   ]
  },
  {
   "cell_type": "markdown",
   "metadata": {},
   "source": [
    "As examples of IOS games, I cite:\n",
    "`Roblox` had 183,621 reviews,\n",
    "`Clash of Clans` had 2.130.805 reviews,\n",
    "`Temple Run` had 1.724.546 reviews, and `Candy Crush Saga` had 961.794 reviews. \n",
    "Both were rated 4.5 by users."
   ]
  },
  {
   "cell_type": "code",
   "execution_count": null,
   "metadata": {},
   "outputs": [],
   "source": [
    "reviews_ios_games = []\n",
    "for app in ios_free:\n",
    "    if app[-5] == 'Games':\n",
    "        reviews_ios_games.append(int(app[5]))\n",
    "sorted_reviews_ios_games = sorted(reviews_ios_games)\n",
    "print(sorted_reviews_ios_games[-1:])\n",
    "for app in ios_free:\n",
    "    if app[5] == '2130805':\n",
    "        print('The most reviewed IOS game was ', app[1],' with 2,130,805 reviews.')"
   ]
  },
  {
   "cell_type": "code",
   "execution_count": null,
   "metadata": {},
   "outputs": [],
   "source": [
    "reviews_android_games = []\n",
    "for app in android_free:\n",
    "    if app[1] == 'GAME':\n",
    "        reviews_android_games.append(int(app[3]))\n",
    "sorted_reviews_android_games = sorted(reviews_android_games)\n",
    "# print(sorted_reviews_android_games[-1:])\n",
    "for app in android_free:\n",
    "    if app[3] == '44893888':\n",
    "        print('The most reviewed Android game was ', app[0],' with 44,893,888 reviews.')"
   ]
  },
  {
   "cell_type": "markdown",
   "metadata": {},
   "source": [
    "`Clash of Clans` was the most reviewed game on both platforms. However, the number of reviews on Android is 22 times higher than on IOS. \n",
    "\n",
    "User engagement is higher on Android. But this could only be proven with the information on the number of installed apps, or the number of users, which are information that we don't have for the two datasets."
   ]
  },
  {
   "cell_type": "markdown",
   "metadata": {},
   "source": [
    "### Number of users and popularity\n",
    "Data of installs of Android apps are used to give us an overview about the genre popularity. \n",
    "\n"
   ]
  },
  {
   "cell_type": "code",
   "execution_count": null,
   "metadata": {},
   "outputs": [],
   "source": [
    "# check the variables\n",
    "android[0]"
   ]
  },
  {
   "cell_type": "code",
   "execution_count": null,
   "metadata": {},
   "outputs": [],
   "source": [
    "unique_installs = []  # list unique values for number of installs \n",
    "\n",
    "for value in android_free[1:]:\n",
    "    install = value[5] \n",
    "    if install not in unique_installs:\n",
    "        unique_installs.append(install)   \n",
    "unique_installs        \n"
   ]
  },
  {
   "cell_type": "code",
   "execution_count": null,
   "metadata": {},
   "outputs": [],
   "source": [
    "# To find the higher install number, remove characters and sort in descending order\n",
    "unique_installs = []\n",
    "\n",
    "for value in android_free[1:]:\n",
    "    install = value[5] \n",
    "    install = install.replace(',', '') # remove , character\n",
    "    \n",
    "    substring = '+'\n",
    "    if install.find(substring): \n",
    "        install = install.replace('+', '') # remove + character\n",
    "        install = int(install)    # transform in integer\n",
    "        \n",
    "    if install not in unique_installs:\n",
    "        unique_installs.append(install)\n",
    "        \n",
    "sorted(unique_installs, reverse = True)  "
   ]
  },
  {
   "cell_type": "code",
   "execution_count": null,
   "metadata": {},
   "outputs": [],
   "source": [
    "print(explore_data(android_free, 0, 2, True))"
   ]
  },
  {
   "cell_type": "markdown",
   "metadata": {},
   "source": [
    "#### The categories that have the most installed apps\n",
    "List unique categories that have apps with 1,000,000,000+ installs"
   ]
  },
  {
   "cell_type": "code",
   "execution_count": null,
   "metadata": {},
   "outputs": [],
   "source": [
    "categories_installs = []\n",
    "for row in android_free:\n",
    "    category = row[1]\n",
    "    install = row[5] \n",
    "    if install == '1,000,000,000+' and category not in categories_installs:\n",
    "        categories_installs.append(category)\n",
    "print(categories_installs)\n",
    "# android_free"
   ]
  },
  {
   "cell_type": "code",
   "execution_count": null,
   "metadata": {},
   "outputs": [],
   "source": [
    "# remove characters and sort in descending order in the dataset\n",
    "for value in android_free[1:]:\n",
    "    install = value[5] \n",
    "    install = install.replace(',', '')\n",
    "    \n",
    "    substring = '+'\n",
    "    if install.find(substring): \n",
    "        install = install.replace('+', '')\n",
    "    install = int(install)\n",
    "    value[5] = install\n",
    "\n",
    "print(explore_data(android_free, 0, 2, True))       "
   ]
  },
  {
   "cell_type": "code",
   "execution_count": null,
   "metadata": {},
   "outputs": [],
   "source": [
    "# find the average of pps installed that are in COMMUNICATION category and  has less than 100000000 installs\n",
    "under_100_m = []\n",
    "\n",
    "for app in android_free:\n",
    "    installs = app[5]\n",
    "    if (app[1] == 'COMMUNICATION') and installs < 100000000:\n",
    "        under_100_m.append(installs)\n",
    "        \n",
    "print(sum(under_100_m) / len(under_100_m))\n"
   ]
  },
  {
   "cell_type": "code",
   "execution_count": null,
   "metadata": {},
   "outputs": [],
   "source": [
    "# find the average of pps installed that are in BOOKS_AND_REFERENCE category and  has less than 100000000 installs\n",
    "under_100_m = []\n",
    "\n",
    "for app in android_free:\n",
    "    installs = app[5]\n",
    "    if (app[1] == 'BOOKS_AND_REFERENCE') and installs < 100000000:\n",
    "        under_100_m.append(installs)\n",
    "        \n",
    "print(sum(under_100_m) / len(under_100_m))"
   ]
  },
  {
   "cell_type": "code",
   "execution_count": null,
   "metadata": {},
   "outputs": [],
   "source": [
    "# find the average of pps installed that are in ENTERTAINMENT category and  has less than 100000000 installs\n",
    "under_100_m = []\n",
    "\n",
    "for app in android_free:\n",
    "    installs = app[5]\n",
    "    if (app[1] == 'ENTERTAINMENT') and installs < 100000000:\n",
    "        under_100_m.append(installs)\n",
    "        \n",
    "sum(under_100_m) / len(under_100_m)"
   ]
  },
  {
   "cell_type": "code",
   "execution_count": null,
   "metadata": {},
   "outputs": [],
   "source": [
    "# find the average of pps installed that are in GAME category and  has less than 100000000 installs\n",
    "under_100_m = []\n",
    "\n",
    "for app in android_free:\n",
    "    installs = app[5]\n",
    "    if (app[1] == 'GAME') and installs < 100000000:\n",
    "        under_100_m.append(installs)\n",
    "        \n",
    "sum(under_100_m) / len(under_100_m)"
   ]
  },
  {
   "cell_type": "code",
   "execution_count": null,
   "metadata": {},
   "outputs": [],
   "source": [
    "list_avg = [4386993.665492957,1673876.3541666667, 6389411.764705882, 7943314.246119734]\n",
    "sorted(list_avg)\n",
    "# book, communication, entertainment, game"
   ]
  },
  {
   "cell_type": "code",
   "execution_count": null,
   "metadata": {},
   "outputs": [],
   "source": [
    "counter = 0\n",
    "for app in android_free:\n",
    "    if app[1] == 'COMMUNICATION' and app[5] == 100000000:\n",
    "        counter += 1\n",
    "        print(app[0], ':', app[5])\n",
    "        \n",
    "print(counter)"
   ]
  },
  {
   "cell_type": "code",
   "execution_count": null,
   "metadata": {},
   "outputs": [],
   "source": [
    "counter = 0\n",
    "for app in android_free:\n",
    "    if app[1] == 'BOOKS_AND_REFERENCE' and app[5] == 100000000:\n",
    "        counter += 1\n",
    "        print(app[0], ':', app[5])\n",
    "\n",
    "print(counter)"
   ]
  },
  {
   "cell_type": "code",
   "execution_count": null,
   "metadata": {},
   "outputs": [],
   "source": [
    "counter = 0\n",
    "for app in android_free:\n",
    "    if app[1] == 'ENTERTAINMENT' and app[5] == 100000000:\n",
    "        counter += 1\n",
    "        print(app[0], ':', app[5])\n",
    "print(counter)"
   ]
  },
  {
   "cell_type": "code",
   "execution_count": null,
   "metadata": {},
   "outputs": [],
   "source": [
    "counter = 0\n",
    "for app in android_free:\n",
    "    if app[1] == 'GAME' and app[5] == 100000000:\n",
    "        counter += 1\n",
    "        print(app[0], ':', app[5])\n",
    "        \n",
    "print(counter)"
   ]
  },
  {
   "cell_type": "raw",
   "metadata": {},
   "source": [
    "Considering book, communication, entertainment, and game, that are the most installed categories, I found:\n",
    "\n",
    "- the number of apps with 100000000+ installs (games: 134, communication: 39, entertainment:  10, books and reference: 6)\n",
    "- the average of apps with less than 100000000+ installs. (games: 1st, communication: 3dr, entertainment:  2nd, books and reference: 4th)\n",
    "\n",
    "The `communication` category was shown to be a higher proportion of apps with 100000000+ more disproportionate than the average of those with fewer installs. This makes me believe that this category is dominated by big and famous apps.\n"
   ]
  },
  {
   "cell_type": "markdown",
   "metadata": {},
   "source": [
    "### Conclusion"
   ]
  },
  {
   "cell_type": "markdown",
   "metadata": {},
   "source": [
    "**Which has the most profitable apps: Android or IOS?** We know that the percentage of mobile over desktop is only increasing. Android holds about 53.2% of the smartphone market, while iOS is 43%. Based on these datasets, I can't answer this question. But I can highlight points and make some observations.\n",
    "\n",
    "Free apps from IOS (2017) and Android(unknown data) were analyzed. A Cleaning was made to detect and remove missing and duplicate data, and detect and fix or remove inaccurate data. Duplicate entries were removed, keeping with entries with the higher number of reviews, that can represent the more recent records. Non-English apps and non-free apps were excluded from this work. Percentages for genres in both platforms were found. And the game with more reviews was shown.\n",
    "\n",
    "\n",
    "- **Games are the strong point of IOS apps.**\n",
    "Games and Entertainment are strong points of IOS apps. These types of apps are quite profitable, even though they are initially free and have different business models. Unlike functional apps, users spend a lot of time using gaming and entertainment apps, which makes room for selling space for marketing and also selling features. <br><br>\n",
    "\n",
    "- **Business and Productivity are the most important genres in Android apps.**\n",
    "Only requires time and focus as input. We can say that business apps are profitable, even if they don't have many users, and that they run profitably with a small mumber of users. Because these only require time and focus as input, they do not require upfront capital, nor do they require an extended business network [(source)](https://www.appypie.com/app-business-model). <br><br>\n",
    "\n",
    "- **Clash of Clans** is the game with more reviews on both platforms, but the engagement on Android is 22 times higher for this game.\n",
    "\n",
    "**What are the most popular genres?**\n",
    "\n",
    "- `book and reference`, `communication`, `entertainment`, and `game` are the most installed categories with more.<br><br>\n",
    "\n",
    "- `Communication` category was shown to be a higher proportion of apps with 100,000,000+ more disproportionate than the average of those with less installs. This makes me believe that this category is dominated by big and famous apps, while the other three categories are more competitive.\n",
    "\n",
    "With these general insights, I can prioritize the platform I choose to launch my company's app on, according with the company's niche.\n",
    "\n"
   ]
  }
 ],
 "metadata": {
  "kernelspec": {
   "display_name": "Python 3",
   "language": "python",
   "name": "python3"
  },
  "language_info": {
   "codemirror_mode": {
    "name": "ipython",
    "version": 3
   },
   "file_extension": ".py",
   "mimetype": "text/x-python",
   "name": "python",
   "nbconvert_exporter": "python",
   "pygments_lexer": "ipython3",
   "version": "3.8.2"
  }
 },
 "nbformat": 4,
 "nbformat_minor": 2
}
